{
 "cells": [
  {
   "cell_type": "code",
   "execution_count": 1,
   "id": "ee9fe256",
   "metadata": {},
   "outputs": [],
   "source": [
    "import pandas as pd\n",
    "import numpy as np\n",
    "import scipy.stats as stats"
   ]
  },
  {
   "cell_type": "code",
   "execution_count": 8,
   "id": "579a460f",
   "metadata": {},
   "outputs": [],
   "source": [
    "dataset = pd.read_csv(\"mice.csv\")"
   ]
  },
  {
   "cell_type": "code",
   "execution_count": 9,
   "id": "6d0d7f64",
   "metadata": {},
   "outputs": [
    {
     "data": {
      "text/html": [
       "<div>\n",
       "<style scoped>\n",
       "    .dataframe tbody tr th:only-of-type {\n",
       "        vertical-align: middle;\n",
       "    }\n",
       "\n",
       "    .dataframe tbody tr th {\n",
       "        vertical-align: top;\n",
       "    }\n",
       "\n",
       "    .dataframe thead th {\n",
       "        text-align: right;\n",
       "    }\n",
       "</style>\n",
       "<table border=\"1\" class=\"dataframe\">\n",
       "  <thead>\n",
       "    <tr style=\"text-align: right;\">\n",
       "      <th></th>\n",
       "      <th>Mouse Name</th>\n",
       "      <th>Sex</th>\n",
       "      <th>Diet</th>\n",
       "      <th>Weight1</th>\n",
       "      <th>Weight2</th>\n",
       "    </tr>\n",
       "  </thead>\n",
       "  <tbody>\n",
       "    <tr>\n",
       "      <th>0</th>\n",
       "      <td>F01</td>\n",
       "      <td>F</td>\n",
       "      <td>HF</td>\n",
       "      <td>31.94</td>\n",
       "      <td>35.46</td>\n",
       "    </tr>\n",
       "    <tr>\n",
       "      <th>1</th>\n",
       "      <td>F02</td>\n",
       "      <td>F</td>\n",
       "      <td>HF</td>\n",
       "      <td>32.48</td>\n",
       "      <td>35.76</td>\n",
       "    </tr>\n",
       "    <tr>\n",
       "      <th>2</th>\n",
       "      <td>F03</td>\n",
       "      <td>F</td>\n",
       "      <td>HF</td>\n",
       "      <td>22.82</td>\n",
       "      <td>24.12</td>\n",
       "    </tr>\n",
       "    <tr>\n",
       "      <th>3</th>\n",
       "      <td>F04</td>\n",
       "      <td>F</td>\n",
       "      <td>HF</td>\n",
       "      <td>19.92</td>\n",
       "      <td>21.09</td>\n",
       "    </tr>\n",
       "    <tr>\n",
       "      <th>4</th>\n",
       "      <td>F05</td>\n",
       "      <td>F</td>\n",
       "      <td>HF</td>\n",
       "      <td>32.22</td>\n",
       "      <td>39.38</td>\n",
       "    </tr>\n",
       "    <tr>\n",
       "      <th>...</th>\n",
       "      <td>...</td>\n",
       "      <td>...</td>\n",
       "      <td>...</td>\n",
       "      <td>...</td>\n",
       "      <td>...</td>\n",
       "    </tr>\n",
       "    <tr>\n",
       "      <th>145</th>\n",
       "      <td>M71</td>\n",
       "      <td>M</td>\n",
       "      <td>chow</td>\n",
       "      <td>34.21</td>\n",
       "      <td>NaN</td>\n",
       "    </tr>\n",
       "    <tr>\n",
       "      <th>146</th>\n",
       "      <td>M72</td>\n",
       "      <td>M</td>\n",
       "      <td>chow</td>\n",
       "      <td>32.32</td>\n",
       "      <td>NaN</td>\n",
       "    </tr>\n",
       "    <tr>\n",
       "      <th>147</th>\n",
       "      <td>M73</td>\n",
       "      <td>M</td>\n",
       "      <td>chow</td>\n",
       "      <td>23.54</td>\n",
       "      <td>26.25</td>\n",
       "    </tr>\n",
       "    <tr>\n",
       "      <th>148</th>\n",
       "      <td>M74</td>\n",
       "      <td>M</td>\n",
       "      <td>chow</td>\n",
       "      <td>38.54</td>\n",
       "      <td>46.00</td>\n",
       "    </tr>\n",
       "    <tr>\n",
       "      <th>149</th>\n",
       "      <td>M75</td>\n",
       "      <td>M</td>\n",
       "      <td>chow</td>\n",
       "      <td>26.27</td>\n",
       "      <td>31.11</td>\n",
       "    </tr>\n",
       "  </tbody>\n",
       "</table>\n",
       "<p>150 rows × 5 columns</p>\n",
       "</div>"
      ],
      "text/plain": [
       "    Mouse Name Sex  Diet  Weight1  Weight2\n",
       "0          F01   F    HF    31.94    35.46\n",
       "1          F02   F    HF    32.48    35.76\n",
       "2          F03   F    HF    22.82    24.12\n",
       "3          F04   F    HF    19.92    21.09\n",
       "4          F05   F    HF    32.22    39.38\n",
       "..         ...  ..   ...      ...      ...\n",
       "145        M71   M  chow    34.21      NaN\n",
       "146        M72   M  chow    32.32      NaN\n",
       "147        M73   M  chow    23.54    26.25\n",
       "148        M74   M  chow    38.54    46.00\n",
       "149        M75   M  chow    26.27    31.11\n",
       "\n",
       "[150 rows x 5 columns]"
      ]
     },
     "execution_count": 9,
     "metadata": {},
     "output_type": "execute_result"
    }
   ],
   "source": [
    "dataset"
   ]
  },
  {
   "cell_type": "code",
   "execution_count": 10,
   "id": "c4b5d59b",
   "metadata": {
    "scrolled": true
   },
   "outputs": [],
   "source": [
    "## Kolmogorov-Smirnov\n",
    "dataset = dataset[dataset[\"Diet\"] == \"chow\"]\n",
    "dataset = dataset[\"Weight2\"]\n",
    "dataset= dataset[~np.isnan(dataset)]"
   ]
  },
  {
   "cell_type": "code",
   "execution_count": 11,
   "id": "e496d3ce",
   "metadata": {},
   "outputs": [
    {
     "data": {
      "text/plain": [
       "25     28.29\n",
       "26     22.13\n",
       "27     28.60\n",
       "28     29.78\n",
       "29     34.99\n",
       "       ...  \n",
       "140    36.68\n",
       "142    32.26\n",
       "147    26.25\n",
       "148    46.00\n",
       "149    31.11\n",
       "Name: Weight2, Length: 92, dtype: float64"
      ]
     },
     "execution_count": 11,
     "metadata": {},
     "output_type": "execute_result"
    }
   ],
   "source": [
    "dataset"
   ]
  },
  {
   "cell_type": "code",
   "execution_count": 13,
   "id": "828d26c5",
   "metadata": {},
   "outputs": [
    {
     "data": {
      "text/plain": [
       "array([28.29, 22.13, 28.6 , 29.78, 34.99, 29.07, 26.71, 30.58, 29.08,\n",
       "       32.48, 20.49, 22.5 , 23.23, 22.53, 22.79, 24.18, 28.45, 29.15,\n",
       "       31.8 , 23.52, 26.  , 26.22, 26.81, 30.02, 25.62, 24.51, 26.51,\n",
       "       22.72, 19.14, 36.23, 24.15, 37.78, 27.04, 39.57, 24.02, 27.84,\n",
       "       42.55, 31.47, 28.96, 32.06, 27.13, 23.79, 24.07, 25.81, 32.  ,\n",
       "       24.76, 29.96, 26.29, 53.36, 33.35, 39.19, 28.63, 39.  , 32.24,\n",
       "       43.25, 33.84, 33.86, 27.85, 39.55, 37.27, 40.16, 35.65, 43.97,\n",
       "       35.6 , 37.06, 34.4 , 27.69, 40.55, 41.48, 33.84, 30.7 , 33.2 ,\n",
       "       38.27, 45.  , 42.63, 25.69, 34.27, 33.81, 36.46, 36.69, 39.17,\n",
       "       37.4 , 39.84, 38.54, 34.71, 36.9 , 34.54, 36.68, 32.26, 26.25,\n",
       "       46.  , 31.11])"
      ]
     },
     "execution_count": 13,
     "metadata": {},
     "output_type": "execute_result"
    }
   ],
   "source": [
    "dataset = dataset.values\n",
    "dataset"
   ]
  },
  {
   "cell_type": "code",
   "execution_count": 15,
   "id": "7e19fc34",
   "metadata": {},
   "outputs": [],
   "source": [
    "lmb = 1 / np.mean(np.array(dataset))\n",
    "a = np.mean(np.array(dataset))**2 / np.std(np.array(dataset)) # from course last part m1'**2 / m2'\n",
    "\n",
    "# Determine the parameters for different distributions which may fit the data\n",
    "params = stats.norm.fit(np.array(dataset))"
   ]
  },
  {
   "cell_type": "code",
   "execution_count": 18,
   "id": "8188208e",
   "metadata": {},
   "outputs": [
    {
     "name": "stdout",
     "output_type": "stream",
     "text": [
      "params: (31.905326086956528, 6.687923160295364)\n",
      "\n",
      " P-value 0.5120813711592034 \n",
      "\n"
     ]
    }
   ],
   "source": [
    "print(\"params: {}\".format(params))\n",
    "test = stats.kstest(\n",
    "    rvs=dataset,\n",
    "    cdf='norm',\n",
    "    args=params\n",
    ")\n",
    "print(\"\\n P-value {} \\n\".format(test.pvalue))"
   ]
  },
  {
   "cell_type": "markdown",
   "id": "036149b0",
   "metadata": {},
   "source": [
    "### Exercitiul 3\n",
    "1) interval de inceredere pentru greutatea soarecilor care au mancat varza"
   ]
  },
  {
   "cell_type": "code",
   "execution_count": 21,
   "id": "0cc5eb1f",
   "metadata": {},
   "outputs": [
    {
     "name": "stderr",
     "output_type": "stream",
     "text": [
      "C:\\Users\\Popescu Andrei\\AppData\\Local\\Temp\\ipykernel_12168\\2600236841.py:1: DeprecationWarning: Use of keyword argument `alpha` for method `interval` is deprecated. Use first positional argument or keyword argument `confidence` instead.\n",
      "  stats.t.interval(alpha=0.95, df=len(dataset)-1, loc=np.mean(dataset), scale=stats.sem(dataset))\n"
     ]
    },
    {
     "data": {
      "text/plain": [
       "(30.51270716998652, 33.297945003926536)"
      ]
     },
     "execution_count": 21,
     "metadata": {},
     "output_type": "execute_result"
    }
   ],
   "source": [
    "stats.t.interval(alpha=0.95, df=len(dataset)-1, loc=np.mean(dataset), scale=stats.sem(dataset)) "
   ]
  },
  {
   "cell_type": "markdown",
   "id": "3825d06d",
   "metadata": {},
   "source": [
    "### Interval de credibilitate cu 0.95 "
   ]
  },
  {
   "cell_type": "code",
   "execution_count": 31,
   "id": "ac4bbff8",
   "metadata": {},
   "outputs": [
    {
     "name": "stdout",
     "output_type": "stream",
     "text": [
      "Mean(statistic=31.905326086956528, minmax=(30.51270716998652, 33.297945003926536)) Variance(statistic=46.23601224963361, minmax=(34.498155087587975, 61.879134512569784)) Std_dev(statistic=6.780633678671389, minmax=(5.873513010761787, 7.866329163756739))\n"
     ]
    }
   ],
   "source": [
    "res_mean, res_var, res_std = stats.bayes_mvs(dataset, alpha=0.95)\n",
    "print(res_mean, res_var, res_std)"
   ]
  },
  {
   "cell_type": "code",
   "execution_count": 26,
   "id": "f40f8723",
   "metadata": {},
   "outputs": [
    {
     "data": {
      "text/plain": [
       "<matplotlib.patches.Polygon at 0x1ca89bd64a0>"
      ]
     },
     "execution_count": 26,
     "metadata": {},
     "output_type": "execute_result"
    },
    {
     "data": {
      "image/png": "[encoded data removed]",
      "text/plain": [
       "<Figure size 640x480 with 1 Axes>"
      ]
     },
     "metadata": {},
     "output_type": "display_data"
    }
   ],
   "source": [
    "import matplotlib.pyplot as plt\n",
    "\n",
    "fig = plt.figure()\n",
    "ax = fig.add_subplot(111)\n",
    "ax.hist(dataset, bins=100, density=True, label='Histogram of data')\n",
    "ax.vlines(res_mean.statistic, 0, 0.5, colors='r', label='Estimated mean')\n",
    "ax.axvspan(res_mean.minmax[0],res_mean.minmax[1], facecolor='r',\n",
    "           alpha=0.2, label=r'Estimated mean (95% limits)')\n",
    "ax.vlines(res_std.statistic, 0, 0.5, colors='g', label='Estimated scale')\n",
    "ax.axvspan(res_std.minmax[0],res_std.minmax[1], facecolor='g', alpha=0.2,\n",
    "           label=r'Estimated scale (95% limits)')"
   ]
  },
  {
   "cell_type": "code",
   "execution_count": 37,
   "id": "867709cc",
   "metadata": {},
   "outputs": [
    {
     "data": {
      "image/png": "[encoded data removed]",
      "text/plain": [
       "<Figure size 640x480 with 1 Axes>"
      ]
     },
     "metadata": {},
     "output_type": "display_data"
    }
   ],
   "source": [
    "## Citim iar datele pentru exercitiul 4\n",
    "dataset = pd.read_csv('mice.csv')\n",
    "\n",
    "N = len(dataset)\n",
    "x = dataset['Weight2'].values\n",
    "y = dataset['Weight1'].values\n",
    "\n",
    "plt.scatter(x, y, alpha=0.5)\n",
    "plt.show()"
   ]
  },
  {
   "cell_type": "code",
   "execution_count": 38,
   "id": "42c3dec5",
   "metadata": {},
   "outputs": [
    {
     "data": {
      "text/plain": [
       "0.926481598929005"
      ]
     },
     "execution_count": 38,
     "metadata": {},
     "output_type": "execute_result"
    }
   ],
   "source": [
    "dataset['Weight1'].corr(dataset['Weight2'])"
   ]
  },
  {
   "cell_type": "code",
   "execution_count": null,
   "id": "b27ebec2",
   "metadata": {},
   "outputs": [],
   "source": [
    "import numpy as np\n",
    "import seaborn as sns\n",
    "from sklearn.linear_model import LinearRegression\n",
    "import sklearn.metrics\n",
    "\n",
    "x = np.array([4, 6, 8, 10, 12, 14, 18, 18, 21]).reshape(-1,1)\n",
    "y = np.array([2, 6, 4, 9, 5, 8, 6, 10, 10]).reshape(-1,1)\n",
    "# fitting the model\n",
    "reg = LinearRegression().fit(x,y)\n",
    "# predicting values (x_new is an array of values you want to predict from)\n",
    "x_new = x\n",
    "y_new = reg.predict(x_new)\n",
    "# plot regression line\n",
    "ax = sns.scatterplot(x[:,0],y[:,0])\n",
    "sns.lineplot(x = x_new[:,0],y = y_new[:,0], color='green')\n",
    "ax.set(xlabel='X', ylabel='Y')\n",
    "plt.show()\n",
    "# R Squared\n",
    "print(f'R Squared: {reg.score(x,y)}')"
   ]
  }
 ],
 "metadata": {
  "kernelspec": {
   "display_name": "Python 3 (ipykernel)",
   "language": "python",
   "name": "python3"
  },
  "language_info": {
   "codemirror_mode": {
    "name": "ipython",
    "version": 3
   },
   "file_extension": ".py",
   "mimetype": "text/x-python",
   "name": "python",
   "nbconvert_exporter": "python",
   "pygments_lexer": "ipython3",
   "version": "3.10.6"
  }
 },
 "nbformat": 4,
 "nbformat_minor": 5
}
