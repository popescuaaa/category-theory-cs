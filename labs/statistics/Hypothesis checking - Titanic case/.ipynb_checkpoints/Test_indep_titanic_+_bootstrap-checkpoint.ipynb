{
 "cells": [
  {
   "cell_type": "code",
   "execution_count": 3,
   "metadata": {
    "colab": {
     "base_uri": "https://localhost:8080/",
     "height": 424
    },
    "id": "orjFdgZav3fd",
    "outputId": "6f6cb784-6e5e-4b07-9638-a5daf63551e1"
   },
   "outputs": [
    {
     "data": {
      "text/html": [
       "\n",
       "  <div id=\"df-add40710-f203-4ee8-b3b3-36b85aa25793\">\n",
       "    <div class=\"colab-df-container\">\n",
       "      <div>\n",
       "<style scoped>\n",
       "    .dataframe tbody tr th:only-of-type {\n",
       "        vertical-align: middle;\n",
       "    }\n",
       "\n",
       "    .dataframe tbody tr th {\n",
       "        vertical-align: top;\n",
       "    }\n",
       "\n",
       "    .dataframe thead th {\n",
       "        text-align: right;\n",
       "    }\n",
       "</style>\n",
       "<table border=\"1\" class=\"dataframe\">\n",
       "  <thead>\n",
       "    <tr style=\"text-align: right;\">\n",
       "      <th></th>\n",
       "      <th>Name</th>\n",
       "      <th>PClass</th>\n",
       "      <th>Age</th>\n",
       "      <th>Sex</th>\n",
       "      <th>Survived</th>\n",
       "    </tr>\n",
       "  </thead>\n",
       "  <tbody>\n",
       "    <tr>\n",
       "      <th>0</th>\n",
       "      <td>Allen, Miss Elisabeth Walton</td>\n",
       "      <td>1st</td>\n",
       "      <td>29</td>\n",
       "      <td>female</td>\n",
       "      <td>1</td>\n",
       "    </tr>\n",
       "    <tr>\n",
       "      <th>1</th>\n",
       "      <td>Allison, Miss Helen Loraine</td>\n",
       "      <td>1st</td>\n",
       "      <td>2</td>\n",
       "      <td>female</td>\n",
       "      <td>0</td>\n",
       "    </tr>\n",
       "    <tr>\n",
       "      <th>2</th>\n",
       "      <td>Allison, Mr Hudson Joshua Creighton</td>\n",
       "      <td>1st</td>\n",
       "      <td>30</td>\n",
       "      <td>male</td>\n",
       "      <td>0</td>\n",
       "    </tr>\n",
       "    <tr>\n",
       "      <th>3</th>\n",
       "      <td>Allison, Mrs Hudson JC (Bessie Waldo Daniels)</td>\n",
       "      <td>1st</td>\n",
       "      <td>25</td>\n",
       "      <td>female</td>\n",
       "      <td>0</td>\n",
       "    </tr>\n",
       "    <tr>\n",
       "      <th>4</th>\n",
       "      <td>Allison, Master Hudson Trevor</td>\n",
       "      <td>1st</td>\n",
       "      <td>0.92</td>\n",
       "      <td>male</td>\n",
       "      <td>1</td>\n",
       "    </tr>\n",
       "    <tr>\n",
       "      <th>...</th>\n",
       "      <td>...</td>\n",
       "      <td>...</td>\n",
       "      <td>...</td>\n",
       "      <td>...</td>\n",
       "      <td>...</td>\n",
       "    </tr>\n",
       "    <tr>\n",
       "      <th>1308</th>\n",
       "      <td>Zakarian, Mr Artun</td>\n",
       "      <td>3rd</td>\n",
       "      <td>27</td>\n",
       "      <td>male</td>\n",
       "      <td>0</td>\n",
       "    </tr>\n",
       "    <tr>\n",
       "      <th>1309</th>\n",
       "      <td>Zakarian, Mr Maprieder</td>\n",
       "      <td>3rd</td>\n",
       "      <td>26</td>\n",
       "      <td>male</td>\n",
       "      <td>0</td>\n",
       "    </tr>\n",
       "    <tr>\n",
       "      <th>1310</th>\n",
       "      <td>Zenni, Mr Philip</td>\n",
       "      <td>3rd</td>\n",
       "      <td>22</td>\n",
       "      <td>male</td>\n",
       "      <td>0</td>\n",
       "    </tr>\n",
       "    <tr>\n",
       "      <th>1311</th>\n",
       "      <td>Lievens, Mr Rene</td>\n",
       "      <td>3rd</td>\n",
       "      <td>24</td>\n",
       "      <td>male</td>\n",
       "      <td>0</td>\n",
       "    </tr>\n",
       "    <tr>\n",
       "      <th>1312</th>\n",
       "      <td>Zimmerman, Leo</td>\n",
       "      <td>3rd</td>\n",
       "      <td>29</td>\n",
       "      <td>male</td>\n",
       "      <td>0</td>\n",
       "    </tr>\n",
       "  </tbody>\n",
       "</table>\n",
       "<p>1313 rows × 5 columns</p>\n",
       "</div>\n",
       "      <button class=\"colab-df-convert\" onclick=\"convertToInteractive('df-add40710-f203-4ee8-b3b3-36b85aa25793')\"\n",
       "              title=\"Convert this dataframe to an interactive table.\"\n",
       "              style=\"display:none;\">\n",
       "        \n",
       "  <svg xmlns=\"http://www.w3.org/2000/svg\" height=\"24px\"viewBox=\"0 0 24 24\"\n",
       "       width=\"24px\">\n",
       "    <path d=\"M0 0h24v24H0V0z\" fill=\"none\"/>\n",
       "    <path d=\"M18.56 5.44l.94 2.06.94-2.06 2.06-.94-2.06-.94-.94-2.06-.94 2.06-2.06.94zm-11 1L8.5 8.5l.94-2.06 2.06-.94-2.06-.94L8.5 2.5l-.94 2.06-2.06.94zm10 10l.94 2.06.94-2.06 2.06-.94-2.06-.94-.94-2.06-.94 2.06-2.06.94z\"/><path d=\"M17.41 7.96l-1.37-1.37c-.4-.4-.92-.59-1.43-.59-.52 0-1.04.2-1.43.59L10.3 9.45l-7.72 7.72c-.78.78-.78 2.05 0 2.83L4 21.41c.39.39.9.59 1.41.59.51 0 1.02-.2 1.41-.59l7.78-7.78 2.81-2.81c.8-.78.8-2.07 0-2.86zM5.41 20L4 18.59l7.72-7.72 1.47 1.35L5.41 20z\"/>\n",
       "  </svg>\n",
       "      </button>\n",
       "      \n",
       "  <style>\n",
       "    .colab-df-container {\n",
       "      display:flex;\n",
       "      flex-wrap:wrap;\n",
       "      gap: 12px;\n",
       "    }\n",
       "\n",
       "    .colab-df-convert {\n",
       "      background-color: #E8F0FE;\n",
       "      border: none;\n",
       "      border-radius: 50%;\n",
       "      cursor: pointer;\n",
       "      display: none;\n",
       "      fill: #1967D2;\n",
       "      height: 32px;\n",
       "      padding: 0 0 0 0;\n",
       "      width: 32px;\n",
       "    }\n",
       "\n",
       "    .colab-df-convert:hover {\n",
       "      background-color: #E2EBFA;\n",
       "      box-shadow: 0px 1px 2px rgba(60, 64, 67, 0.3), 0px 1px 3px 1px rgba(60, 64, 67, 0.15);\n",
       "      fill: #174EA6;\n",
       "    }\n",
       "\n",
       "    [theme=dark] .colab-df-convert {\n",
       "      background-color: #3B4455;\n",
       "      fill: #D2E3FC;\n",
       "    }\n",
       "\n",
       "    [theme=dark] .colab-df-convert:hover {\n",
       "      background-color: #434B5C;\n",
       "      box-shadow: 0px 1px 3px 1px rgba(0, 0, 0, 0.15);\n",
       "      filter: drop-shadow(0px 1px 2px rgba(0, 0, 0, 0.3));\n",
       "      fill: #FFFFFF;\n",
       "    }\n",
       "  </style>\n",
       "\n",
       "      <script>\n",
       "        const buttonEl =\n",
       "          document.querySelector('#df-add40710-f203-4ee8-b3b3-36b85aa25793 button.colab-df-convert');\n",
       "        buttonEl.style.display =\n",
       "          google.colab.kernel.accessAllowed ? 'block' : 'none';\n",
       "\n",
       "        async function convertToInteractive(key) {\n",
       "          const element = document.querySelector('#df-add40710-f203-4ee8-b3b3-36b85aa25793');\n",
       "          const dataTable =\n",
       "            await google.colab.kernel.invokeFunction('convertToInteractive',\n",
       "                                                     [key], {});\n",
       "          if (!dataTable) return;\n",
       "\n",
       "          const docLinkHtml = 'Like what you see? Visit the ' +\n",
       "            '<a target=\"_blank\" href=https://colab.research.google.com/notebooks/data_table.ipynb>data table notebook</a>'\n",
       "            + ' to learn more about interactive tables.';\n",
       "          element.innerHTML = '';\n",
       "          dataTable['output_type'] = 'display_data';\n",
       "          await google.colab.output.renderOutput(dataTable, element);\n",
       "          const docLink = document.createElement('div');\n",
       "          docLink.innerHTML = docLinkHtml;\n",
       "          element.appendChild(docLink);\n",
       "        }\n",
       "      </script>\n",
       "    </div>\n",
       "  </div>\n",
       "  "
      ],
      "text/plain": [
       "                                               Name PClass   Age     Sex  \\\n",
       "0                      Allen, Miss Elisabeth Walton    1st    29  female   \n",
       "1                       Allison, Miss Helen Loraine    1st     2  female   \n",
       "2               Allison, Mr Hudson Joshua Creighton    1st    30    male   \n",
       "3     Allison, Mrs Hudson JC (Bessie Waldo Daniels)    1st    25  female   \n",
       "4                     Allison, Master Hudson Trevor    1st  0.92    male   \n",
       "...                                             ...    ...   ...     ...   \n",
       "1308                             Zakarian, Mr Artun    3rd    27    male   \n",
       "1309                         Zakarian, Mr Maprieder    3rd    26    male   \n",
       "1310                               Zenni, Mr Philip    3rd    22    male   \n",
       "1311                               Lievens, Mr Rene    3rd    24    male   \n",
       "1312                                 Zimmerman, Leo    3rd    29    male   \n",
       "\n",
       "     Survived  \n",
       "0           1  \n",
       "1           0  \n",
       "2           0  \n",
       "3           0  \n",
       "4           1  \n",
       "...       ...  \n",
       "1308        0  \n",
       "1309        0  \n",
       "1310        0  \n",
       "1311        0  \n",
       "1312        0  \n",
       "\n",
       "[1313 rows x 5 columns]"
      ]
     },
     "execution_count": 3,
     "metadata": {},
     "output_type": "execute_result"
    }
   ],
   "source": [
    "import csv\n",
    "import pandas as pd\n",
    "with open('titanic.txt') as f:\n",
    "    reader = csv.reader(f, delimiter=\"\\t\")\n",
    "    d = list(reader)\n",
    "df = pd.DataFrame(d[1:], columns = d[0])\n",
    "df"
   ]
  },
  {
   "cell_type": "code",
   "execution_count": 20,
   "metadata": {
    "colab": {
     "base_uri": "https://localhost:8080/"
    },
    "id": "0KyJPMPgwc1u",
    "outputId": "da5ba0f5-5071-4eae-c6b3-788afa7d2c68"
   },
   "outputs": [
    {
     "data": {
      "text/plain": [
       "{'1': {'1st': 193, '2nd': 119, '3rd': 138},\n",
       " '0': {'1st': 129, '2nd': 161, '3rd': 573}}"
      ]
     },
     "execution_count": 20,
     "metadata": {},
     "output_type": "execute_result"
    }
   ],
   "source": [
    "def calc_table(s1, s2):\n",
    "  v1 = s1.unique()\n",
    "  v2 = s2.unique()\n",
    "  return {k1:{k2:((s1 == k1) & (s2 == k2)).sum() for k2 in v2} for k1 in v1}\n",
    "t = calc_table(df[\"Survived\"], df[\"PClass\"])\n",
    "t"
   ]
  },
  {
   "cell_type": "code",
   "execution_count": 59,
   "metadata": {
    "colab": {
     "base_uri": "https://localhost:8080/"
    },
    "id": "qfpw1JtGx0cZ",
    "outputId": "1d790734-eca1-435e-ac5b-c2ba5a1e8394"
   },
   "outputs": [
    {
     "data": {
      "text/plain": [
       "172.29911827411786"
      ]
     },
     "execution_count": 59,
     "metadata": {},
     "output_type": "execute_result"
    }
   ],
   "source": [
    "def calc_Q(t):\n",
    "  n = 0\n",
    "  ni = {}\n",
    "  nj = {}\n",
    "  for k1, v1 in t.items():\n",
    "    for k2, nij in v1.items():\n",
    "      n += nij\n",
    "      if k1 not in ni:\n",
    "        ni[k1] = 0\n",
    "      if k2 not in nj:\n",
    "        nj[k2] = 0\n",
    "      ni[k1] += nij\n",
    "      nj[k2] += nij\n",
    "\n",
    "  q = 0\n",
    "  for k1, v1 in t.items():\n",
    "    for k2, nij in v1.items():\n",
    "      k = n * (ni[k1] / n) * (nj[k2] / n)\n",
    "      q += ((nij - k) ** 2) / k\n",
    "  return q\n",
    "\n",
    "q = calc_Q(t)\n",
    "q"
   ]
  },
  {
   "cell_type": "code",
   "execution_count": 34,
   "metadata": {
    "colab": {
     "base_uri": "https://localhost:8080/"
    },
    "id": "S18Yjeht0VR-",
    "outputId": "f2064b12-49da-48d3-bf4e-dfb0c3d7cf27"
   },
   "outputs": [
    {
     "data": {
      "text/plain": [
       "array([[193., 119., 138.],\n",
       "       [129., 161., 573.]])"
      ]
     },
     "execution_count": 34,
     "metadata": {},
     "output_type": "execute_result"
    }
   ],
   "source": [
    "import numpy as np\n",
    "\n",
    "def flatten_table(t):\n",
    "  d = np.zeros((len(t), len(t[next(iter(t))])))\n",
    "  i = 0\n",
    "  for k1, v1 in t.items():\n",
    "    j = 0\n",
    "    for k2, nij in v1.items():\n",
    "      d[i, j] = nij\n",
    "      j += 1\n",
    "    i += 1\n",
    "  return d\n",
    "\n",
    "d = flatten_table(t)\n",
    "d"
   ]
  },
  {
   "cell_type": "code",
   "execution_count": 37,
   "metadata": {
    "colab": {
     "base_uri": "https://localhost:8080/"
    },
    "id": "5PMSx2b412VH",
    "outputId": "63dcb49c-6614-4a4d-9142-479277abdef4"
   },
   "outputs": [
    {
     "data": {
      "text/plain": [
       "(172.29911827411786,\n",
       " 3.852315502424536e-38,\n",
       " 2,\n",
       " array([[110.35795887,  95.9634425 , 243.67859863],\n",
       "        [211.64204113, 184.0365575 , 467.32140137]]))"
      ]
     },
     "execution_count": 37,
     "metadata": {},
     "output_type": "execute_result"
    }
   ],
   "source": [
    "from scipy.stats import chi2_contingency\n",
    "\n",
    "chi2_contingency(d)"
   ]
  },
  {
   "cell_type": "code",
   "execution_count": 56,
   "metadata": {
    "colab": {
     "base_uri": "https://localhost:8080/"
    },
    "id": "whmjJqZO18mI",
    "outputId": "285c0e37-4d9b-43bf-8f83-d3aa283cb463"
   },
   "outputs": [
    {
     "name": "stdout",
     "output_type": "stream",
     "text": [
      "Q = 172.2991182741179\n",
      "chi2 = 5.991464547107983\n"
     ]
    }
   ],
   "source": [
    "import scipy.stats\n",
    "\n",
    "def chi2_test(s1, s2, alpha):\n",
    "  t = calc_table(s1, s2)\n",
    "  d = flatten_table(t)\n",
    "  q = calc_Q(t)\n",
    "  n, m = d.shape\n",
    "  print(f\"Q = {q}\")\n",
    "  chi = scipy.stats.chi2.isf(alpha, (n-1) * (m-1))\n",
    "  print(f\"chi2 = {chi}\")\n",
    "\n",
    "chi2_test(df[\"PClass\"], df[\"Survived\"], 0.05)"
   ]
  },
  {
   "cell_type": "code",
   "execution_count": 57,
   "metadata": {
    "colab": {
     "base_uri": "https://localhost:8080/"
    },
    "id": "gRPChiBb49UW",
    "outputId": "f2b80f11-4f9d-44e1-e331-b73d032f4b09"
   },
   "outputs": [
    {
     "name": "stdout",
     "output_type": "stream",
     "text": [
      "Q = 332.05702407732946\n",
      "chi2 = 3.8414588206941285\n"
     ]
    }
   ],
   "source": [
    "chi2_test(df[\"Sex\"], df[\"Survived\"], 0.05)"
   ]
  },
  {
   "cell_type": "code",
   "execution_count": 60,
   "metadata": {
    "colab": {
     "base_uri": "https://localhost:8080/"
    },
    "id": "fKqSvB845L4X",
    "outputId": "5f7d400d-4025-43c2-cc71-b21e674ee3c9"
   },
   "outputs": [
    {
     "name": "stdout",
     "output_type": "stream",
     "text": [
      "Q = 22.125247699194297\n",
      "chi2 = 5.991464547107983\n"
     ]
    }
   ],
   "source": [
    "chi2_test(df[\"Sex\"], df[\"PClass\"], 0.05)"
   ]
  },
  {
   "cell_type": "code",
   "execution_count": null,
   "metadata": {
    "id": "reWliEH75cxN"
   },
   "outputs": [],
   "source": []
  },
  {
   "cell_type": "code",
   "execution_count": 170,
   "metadata": {
    "colab": {
     "base_uri": "https://localhost:8080/"
    },
    "id": "AcEYo18B57sV",
    "outputId": "7229911d-62d7-452e-bbf7-e9747efac4e6"
   },
   "outputs": [
    {
     "data": {
      "text/plain": [
       "array([2, 2, 3, 3, 5])"
      ]
     },
     "execution_count": 170,
     "metadata": {},
     "output_type": "execute_result"
    }
   ],
   "source": [
    "d = np.array([2, 2, 3, 3, 5])\n",
    "d"
   ]
  },
  {
   "cell_type": "code",
   "execution_count": 171,
   "metadata": {
    "colab": {
     "base_uri": "https://localhost:8080/"
    },
    "id": "AucrFj_V6AeC",
    "outputId": "d53a8352-9921-4ef2-be7e-09a790b80c7b"
   },
   "outputs": [
    {
     "name": "stdout",
     "output_type": "stream",
     "text": [
      "rmax = 3125\n"
     ]
    }
   ],
   "source": [
    "n = d.shape[0]\n",
    "rmax = n ** n\n",
    "print(f\"rmax = {rmax}\")"
   ]
  },
  {
   "cell_type": "code",
   "execution_count": 172,
   "metadata": {
    "colab": {
     "base_uri": "https://localhost:8080/"
    },
    "id": "0VuOBkz_6KZH",
    "outputId": "29bba687-4b26-47e9-dddf-f09358bae207"
   },
   "outputs": [
    {
     "data": {
      "text/plain": [
       "array([[2., 2., 2., 2., 3.],\n",
       "       [5., 3., 3., 3., 5.],\n",
       "       [5., 5., 5., 3., 5.],\n",
       "       ...,\n",
       "       [2., 3., 3., 2., 2.],\n",
       "       [3., 5., 5., 3., 3.],\n",
       "       [3., 5., 3., 2., 5.]])"
      ]
     },
     "execution_count": 172,
     "metadata": {},
     "output_type": "execute_result"
    }
   ],
   "source": [
    "def bootstrap_sample(d, r):\n",
    "  n = d.shape[0]\n",
    "  result = np.zeros((r, n))\n",
    "  indices = np.random.randint(0, n, (r, n))\n",
    "  for i in range(r):\n",
    "    for j in range(n):\n",
    "      result[i, j] = d[indices[i, j]]\n",
    "  return result\n",
    "r = 1000\n",
    "b = bootstrap_sample(d, r)\n",
    "b"
   ]
  },
  {
   "cell_type": "code",
   "execution_count": 173,
   "metadata": {
    "colab": {
     "base_uri": "https://localhost:8080/"
    },
    "id": "4mEqNqLM8Nta",
    "outputId": "15a131b3-e0b3-4c63-d1df-5b76a0169f91"
   },
   "outputs": [
    {
     "data": {
      "text/plain": [
       "(1000,)"
      ]
     },
     "execution_count": 173,
     "metadata": {},
     "output_type": "execute_result"
    }
   ],
   "source": [
    "m = np.median(b, axis=1)\n",
    "m.shape"
   ]
  },
  {
   "cell_type": "code",
   "execution_count": 174,
   "metadata": {
    "colab": {
     "base_uri": "https://localhost:8080/"
    },
    "id": "4kecHiFE8gyi",
    "outputId": "f4585093-c7db-4bed-860e-cf4b6decc000"
   },
   "outputs": [
    {
     "data": {
      "text/plain": [
       "[2.0, 3.0, 5.0]"
      ]
     },
     "execution_count": 174,
     "metadata": {},
     "output_type": "execute_result"
    }
   ],
   "source": [
    "values = np.unique(m)\n",
    "list(values)"
   ]
  },
  {
   "cell_type": "code",
   "execution_count": 175,
   "metadata": {
    "colab": {
     "base_uri": "https://localhost:8080/"
    },
    "id": "Gd75iqmS8mVV",
    "outputId": "7943f2f6-26a5-43dd-a2b9-e0761927334c"
   },
   "outputs": [
    {
     "data": {
      "text/plain": [
       "{2.0: 0.336, 3.0: 0.614, 5.0: 0.05}"
      ]
     },
     "execution_count": 175,
     "metadata": {},
     "output_type": "execute_result"
    }
   ],
   "source": [
    "rep = {v:(m == v).sum()/r for v in list(values)}\n",
    "rep"
   ]
  },
  {
   "cell_type": "code",
   "execution_count": 176,
   "metadata": {
    "colab": {
     "base_uri": "https://localhost:8080/"
    },
    "id": "5b5zdVGl81qp",
    "outputId": "fd6528bf-08b8-4f16-8382-1ba147a29b0e"
   },
   "outputs": [
    {
     "data": {
      "text/plain": [
       "array([0.336, 0.614, 0.05 ])"
      ]
     },
     "execution_count": 176,
     "metadata": {},
     "output_type": "execute_result"
    }
   ],
   "source": [
    "rep_flatten = np.array([(m == v).sum()/r for v in list(values)])\n",
    "rep_flatten"
   ]
  },
  {
   "cell_type": "code",
   "execution_count": 177,
   "metadata": {
    "colab": {
     "base_uri": "https://localhost:8080/"
    },
    "id": "TfqngyqX9CPY",
    "outputId": "12b4e09a-39c1-42ad-ff96-7b122a28ac33"
   },
   "outputs": [
    {
     "data": {
      "text/plain": [
       "2.7640000000000002"
      ]
     },
     "execution_count": 177,
     "metadata": {},
     "output_type": "execute_result"
    }
   ],
   "source": [
    "median_est = 0\n",
    "for k, v in rep.items():\n",
    "  median_est += k * v\n",
    "median_est"
   ]
  },
  {
   "cell_type": "code",
   "execution_count": 178,
   "metadata": {
    "colab": {
     "base_uri": "https://localhost:8080/"
    },
    "id": "b53xvcNR9bCq",
    "outputId": "b9b01a81-2785-45ec-81ac-a42a1adeb34a"
   },
   "outputs": [
    {
     "data": {
      "text/plain": [
       "8.120000000000001"
      ]
     },
     "execution_count": 178,
     "metadata": {},
     "output_type": "execute_result"
    }
   ],
   "source": [
    "median2_est = 0\n",
    "for k, v in rep.items():\n",
    "  median2_est += k * k * v\n",
    "median2_est"
   ]
  },
  {
   "cell_type": "code",
   "execution_count": 179,
   "metadata": {
    "colab": {
     "base_uri": "https://localhost:8080/"
    },
    "id": "nKQOgkqo9-xv",
    "outputId": "40398433-37f7-4d33-be6d-768cc87d1b0b"
   },
   "outputs": [
    {
     "data": {
      "text/plain": [
       "0.6930396814035972"
      ]
     },
     "execution_count": 179,
     "metadata": {},
     "output_type": "execute_result"
    }
   ],
   "source": [
    "median_s = np.sqrt(median2_est - median_est ** 2)\n",
    "median_s"
   ]
  },
  {
   "cell_type": "code",
   "execution_count": 182,
   "metadata": {
    "colab": {
     "base_uri": "https://localhost:8080/"
    },
    "id": "03mDSvGK-reZ",
    "outputId": "c5e9fea2-1e01-4853-826d-4773920d4128"
   },
   "outputs": [
    {
     "name": "stdout",
     "output_type": "stream",
     "text": [
      "[2.1032622992657988, 3.4247377007342017]\n"
     ]
    }
   ],
   "source": [
    "tt = scipy.stats.t.isf(0.05, n-1)\n",
    "margin = tt * median_s / np.sqrt(n)\n",
    "print(f\"[{median_est - margin}, {median_est + margin}]\")"
   ]
  },
  {
   "cell_type": "code",
   "execution_count": 183,
   "metadata": {
    "colab": {
     "base_uri": "https://localhost:8080/"
    },
    "id": "ycJcSEEkAnTH",
    "outputId": "faaa82ea-d018-4494-bd8c-c7b7aa38245c"
   },
   "outputs": [
    {
     "data": {
      "text/plain": [
       "2.1318467813362907"
      ]
     },
     "execution_count": 183,
     "metadata": {},
     "output_type": "execute_result"
    }
   ],
   "source": [
    "tt"
   ]
  },
  {
   "cell_type": "code",
   "execution_count": null,
   "metadata": {
    "id": "_y4NNzN-BdRj"
   },
   "outputs": [],
   "source": []
  }
 ],
 "metadata": {
  "colab": {
   "collapsed_sections": [],
   "provenance": []
  },
  "kernelspec": {
   "display_name": "Python 3 (ipykernel)",
   "language": "python",
   "name": "python3"
  },
  "language_info": {
   "codemirror_mode": {
    "name": "ipython",
    "version": 3
   },
   "file_extension": ".py",
   "mimetype": "text/x-python",
   "name": "python",
   "nbconvert_exporter": "python",
   "pygments_lexer": "ipython3",
   "version": "3.10.6"
  }
 },
 "nbformat": 4,
 "nbformat_minor": 1
}
