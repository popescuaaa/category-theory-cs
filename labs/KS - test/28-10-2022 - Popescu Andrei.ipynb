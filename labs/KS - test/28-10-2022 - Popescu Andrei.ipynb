{
 "cells": [
  {
   "cell_type": "markdown",
   "id": "e396f8f4",
   "metadata": {},
   "source": [
    "### 3"
   ]
  },
  {
   "cell_type": "code",
   "execution_count": 2,
   "id": "295be4f0",
   "metadata": {},
   "outputs": [
    {
     "name": "stdout",
     "output_type": "stream",
     "text": [
      "Collecting scipy\n",
      "  Using cached scipy-1.9.3-cp310-cp310-win_amd64.whl (40.1 MB)\n",
      "Requirement already satisfied: numpy<1.26.0,>=1.18.5 in c:\\users\\popescu andrei\\anaconda3\\envs\\math\\lib\\site-packages (from scipy) (1.23.3)\n",
      "Installing collected packages: scipy\n",
      "Successfully installed scipy-1.9.3\n"
     ]
    }
   ],
   "source": [
    "!pip install scipy"
   ]
  },
  {
   "cell_type": "code",
   "execution_count": 98,
   "id": "c35a7423",
   "metadata": {},
   "outputs": [],
   "source": [
    "from scipy import stats\n",
    "import pandas as pd\n",
    "import numpy as np\n",
    "import matplotlib.pyplot as plt\n",
    "\n",
    "import warnings\n",
    "warnings.filterwarnings('ignore')"
   ]
  },
  {
   "cell_type": "code",
   "execution_count": 99,
   "id": "4b922891",
   "metadata": {},
   "outputs": [],
   "source": [
    "with open(\"spam.txt\") as f:\n",
    "    x = f.read()\n",
    "    y = x.split()\n",
    "    x = list(map(float, y))\n",
    "    x = np.array(x)"
   ]
  },
  {
   "cell_type": "code",
   "execution_count": 100,
   "id": "e9421d24",
   "metadata": {},
   "outputs": [
    {
     "data": {
      "text/plain": [
       "array([ 6.,  4.,  0., 13.,  5.,  1.,  3., 10.,  1., 29., 12.,  4.,  4.,\n",
       "       22.,  2.,  2., 27.,  7., 27.,  9., 34., 10., 10.,  2., 28.,  7.,\n",
       "        0.,  9.,  4., 32.,  4.,  5.,  9.,  1., 13., 10., 20.,  5.,  5.,\n",
       "        0.,  6.,  9., 20., 28., 22., 10.,  8., 11., 15.,  1., 14.,  0.,\n",
       "        9.,  9.,  1.,  9.,  0.,  7., 13.])"
      ]
     },
     "execution_count": 100,
     "metadata": {},
     "output_type": "execute_result"
    }
   ],
   "source": [
    "x"
   ]
  },
  {
   "cell_type": "code",
   "execution_count": 101,
   "id": "ac52b842",
   "metadata": {},
   "outputs": [
    {
     "data": {
      "text/plain": [
       "(array([14., 11., 16.,  5.,  2.,  2.,  2.,  2.,  3.,  2.]),\n",
       " array([ 0. ,  3.4,  6.8, 10.2, 13.6, 17. , 20.4, 23.8, 27.2, 30.6, 34. ]),\n",
       " [<matplotlib.patches.Polygon at 0x210df68b730>])"
      ]
     },
     "execution_count": 101,
     "metadata": {},
     "output_type": "execute_result"
    },
    {
     "data": {
      "image/png": "[encoded data removed]",
      "text/plain": [
       "<Figure size 640x480 with 1 Axes>"
      ]
     },
     "metadata": {},
     "output_type": "display_data"
    }
   ],
   "source": [
    "fig, ax = plt.subplots(1, 1)\n",
    "ax.hist(x, histtype='stepfilled', alpha=0.2)"
   ]
  },
  {
   "cell_type": "code",
   "execution_count": 102,
   "id": "09eaf552",
   "metadata": {},
   "outputs": [
    {
     "data": {
      "text/plain": [
       "(0.4599757551997309, -2.6871056199772076e-26, 13.74313149802628)"
      ]
     },
     "execution_count": 102,
     "metadata": {},
     "output_type": "execute_result"
    }
   ],
   "source": [
    "lmb = 1 / np.mean(np.array(x))\n",
    "a = np.mean(np.array(x))**2 / np.std(np.array(x)) # from course last part m1'**2 / m2'\n",
    "\n",
    "# Determine the parameters for different distributions which may fit the data\n",
    "stats.gamma.fit(np.array(x))"
   ]
  },
  {
   "cell_type": "code",
   "execution_count": 103,
   "id": "eddead0e",
   "metadata": {},
   "outputs": [
    {
     "name": "stdout",
     "output_type": "stream",
     "text": [
      "P-value 6.406630328381335e-07\n"
     ]
    }
   ],
   "source": [
    "# Basic test for KS ~ example\n",
    "gamma_test = stats.kstest(\n",
    "    rvs=x,\n",
    "    cdf='gamma',\n",
    "    args=(0.4599757551997309, -2.6871056199772076e-26, 13.74313149802628)\n",
    ")\n",
    "\n",
    "print(\"P-value {}\".format(gamma_test.pvalue))"
   ]
  },
  {
   "cell_type": "markdown",
   "id": "342a507f",
   "metadata": {},
   "source": [
    "### Finding the best distribution\n",
    "\n",
    "- Based on the KS test find the best distribution that fits the current data\n",
    "- Testing only for gamma, exponential and alpha distributions\n"
   ]
  },
  {
   "cell_type": "code",
   "execution_count": 104,
   "id": "7feaa782",
   "metadata": {},
   "outputs": [],
   "source": [
    "dists = [\"gamma\", \"alpha\", \"expon\"]"
   ]
  },
  {
   "cell_type": "code",
   "execution_count": 114,
   "id": "a61638cd",
   "metadata": {},
   "outputs": [
    {
     "name": "stdout",
     "output_type": "stream",
     "text": [
      "\n",
      " \t Current test: gamma \n",
      "\n",
      "params: (0.4599757551997309, -2.6871056199772076e-26, 13.74313149802628)\n",
      "\n",
      " P-value 6.406630328381335e-07 \n",
      "\n",
      "\n",
      " \t Current test: alpha \n",
      "\n",
      "params: (3.2177535193095386, -14.171330515818644, 69.37675716420026)\n",
      "\n",
      " P-value 0.596464711083592 \n",
      "\n",
      "\n",
      " \t Current test: expon \n",
      "\n",
      "params: (0.0, 9.966101694915254)\n",
      "\n",
      " P-value 0.5231706968981257 \n",
      "\n"
     ]
    }
   ],
   "source": [
    "for d in dists:\n",
    "    print(\"\\n \\t Current test: {} \\n\".format(d))\n",
    "    params = eval('stats.{}.fit(x)'.format(d))\n",
    "    print(\"params: {}\".format(params))\n",
    "    test = stats.kstest(\n",
    "        rvs=x,\n",
    "        cdf=d,\n",
    "        args=params\n",
    "    )\n",
    "    print(\"\\n P-value {} \\n\".format(test.pvalue))"
   ]
  },
  {
   "cell_type": "code",
   "execution_count": 115,
   "id": "e0c448e6",
   "metadata": {},
   "outputs": [],
   "source": [
    "expon_data = stats.alpha.rvs(size=35, a=3.2177535193095386)"
   ]
  },
  {
   "cell_type": "code",
   "execution_count": 116,
   "id": "5b680140",
   "metadata": {},
   "outputs": [
    {
     "data": {
      "text/plain": [
       "array([0.2429142 , 0.38421794, 0.22025879, 0.32203025, 0.2934588 ,\n",
       "       0.35419329, 0.25632802, 0.25333466, 0.25098735, 0.28787707,\n",
       "       0.29090196, 0.34790179, 0.27899718, 0.31675204, 0.31054195,\n",
       "       0.20861953, 0.21972761, 0.27907798, 0.219859  , 0.24048936,\n",
       "       0.29426097, 0.84451981, 0.24960777, 0.29751168, 0.20623063,\n",
       "       0.63663962, 0.30173721, 0.26079341, 0.20718712, 0.22997165,\n",
       "       0.53603696, 0.25107389, 0.36212555, 0.29064137, 0.53320701])"
      ]
     },
     "execution_count": 116,
     "metadata": {},
     "output_type": "execute_result"
    }
   ],
   "source": [
    "expon_data"
   ]
  },
  {
   "cell_type": "code",
   "execution_count": 117,
   "id": "18e95a06",
   "metadata": {},
   "outputs": [
    {
     "data": {
      "text/plain": [
       "[<matplotlib.lines.Line2D at 0x210df902ad0>]"
      ]
     },
     "execution_count": 117,
     "metadata": {},
     "output_type": "execute_result"
    },
    {
     "data": {
      "image/png": "[encoded data removed]",
      "text/plain": [
       "<Figure size 640x480 with 1 Axes>"
      ]
     },
     "metadata": {},
     "output_type": "display_data"
    }
   ],
   "source": [
    "fig, ax = plt.subplots(1, 1)\n",
    "ax.hist(x, histtype='stepfilled', alpha=0.2)\n",
    "ax.plot(expon_data)"
   ]
  },
  {
   "cell_type": "code",
   "execution_count": null,
   "id": "787f1dd7",
   "metadata": {},
   "outputs": [],
   "source": []
  }
 ],
 "metadata": {
  "kernelspec": {
   "display_name": "Python 3 (ipykernel)",
   "language": "python",
   "name": "python3"
  },
  "language_info": {
   "codemirror_mode": {
    "name": "ipython",
    "version": 3
   },
   "file_extension": ".py",
   "mimetype": "text/x-python",
   "name": "python",
   "nbconvert_exporter": "python",
   "pygments_lexer": "ipython3",
   "version": "3.10.6"
  }
 },
 "nbformat": 4,
 "nbformat_minor": 5
}
