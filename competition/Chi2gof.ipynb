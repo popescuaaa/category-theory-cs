{
 "cells": [
  {
   "cell_type": "markdown",
   "id": "9f38dcd0",
   "metadata": {},
   "source": [
    "### General description"
   ]
  },
  {
   "cell_type": "markdown",
   "id": "f77c19fb",
   "metadata": {},
   "source": [
    "Python ofera functia scipy.stats.chisquare pentru a testa daca datele observate provin dintr-o anumita repartitie. Pentru utilizare, se compara observatiile cu un set de valori teoretice corespunzatoare repartitiei urmarite. Daca acesta din urma nu este precizat, se testeaza repartitia uniforma. \n",
    "\n",
    " \n",
    "In Matlab exista functia [chi2gof](https://www.mathworks.com/help/stats/chi2gof.html) care poate primi ca input, pe langa setul de date observat, tipul repartitiei urmarite, evitand astfel calcularea in prealabil a valorilor/frecventelor asteptate. \n",
    "\n",
    " \n",
    "Sa se implementeze in Python echivalentul functiei chi2gof din Matlab. Repartitiile acceptate ca argument sunt cele disponibile in biblioteca scipy.stats (discrete https://docs.scipy.org/doc/scipy/tutorial/stats/discrete.html si continue https://docs.scipy.org/doc/scipy/tutorial/stats/continuous.html). \n",
    "\n",
    " \n",
    "Ca regula generala, in fiecare grupa atat frecventele observate cat si cele teoretice trebuie sa fie mai mari sau egale cu 5 pentru a obtine un test valid; in caz contrar, se reorganizeaza grupele."
   ]
  },
  {
   "cell_type": "code",
   "execution_count": null,
   "id": "3109629f",
   "metadata": {},
   "outputs": [],
   "source": []
  }
 ],
 "metadata": {
  "kernelspec": {
   "display_name": "Python 3 (ipykernel)",
   "language": "python",
   "name": "python3"
  },
  "language_info": {
   "codemirror_mode": {
    "name": "ipython",
    "version": 3
   },
   "file_extension": ".py",
   "mimetype": "text/x-python",
   "name": "python",
   "nbconvert_exporter": "python",
   "pygments_lexer": "ipython3",
   "version": "3.10.6"
  }
 },
 "nbformat": 4,
 "nbformat_minor": 5
}
